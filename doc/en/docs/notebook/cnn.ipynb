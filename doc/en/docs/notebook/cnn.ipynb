{
 "cells": [
  {
   "cell_type": "markdown",
   "metadata": {},
   "source": [
    "# Classify images from MNIST using LeNet"
   ]
  },
  {
   "cell_type": "markdown",
   "metadata": {},
   "source": [
    "## Dataset\n",
    "\n",
    "Download the [dataset](http://deeplearning.net/data/mnist/mnist.pkl.gz) to your workspace (i.e. the notebook folder)."
   ]
  },
  {
   "cell_type": "code",
   "execution_count": 1,
   "metadata": {
    "collapsed": true
   },
   "outputs": [],
   "source": [
    "from __future__ import division\n",
    "from builtins import zip\n",
    "from builtins import str\n",
    "from builtins import range\n",
    "from past.utils import old_div\n",
    "from future import standard_library\n",
    "from __future__ import print_function\n",
    "from tqdm import tnrange, tqdm_notebook\n",
    "\n",
    "standard_library.install_aliases()\n",
    "import pickle, gzip\n",
    "\n",
    "# Load the dataset\n",
    "f = gzip.open('mnist.pkl.gz', 'rb')\n",
    "train_set, valid_set, _ = pickle.load(f, encoding='latin1')\n",
    "f.close()"
   ]
  },
  {
   "cell_type": "code",
   "execution_count": 2,
   "metadata": {},
   "outputs": [
    {
     "name": "stdout",
     "output_type": "stream",
     "text": [
      "(50000, 784) (50000,)\n",
      "(10000, 784) (10000,)\n"
     ]
    }
   ],
   "source": [
    "print(train_set[0].shape, train_set[1].shape)\n",
    "print(valid_set[0].shape, valid_set[1].shape)"
   ]
  },
  {
   "cell_type": "code",
   "execution_count": 3,
   "metadata": {
    "collapsed": true
   },
   "outputs": [],
   "source": [
    "import numpy as np\n",
    "train_x = np.reshape(train_set[0], (50000, 1, 28, 28)).astype(np.float32, copy=False)\n",
    "train_y = np.array(train_set[1]).astype(np.int32, copy=False)\n",
    "valid_x = np.reshape(valid_set[0], (10000, 1, 28, 28))"
   ]
  },
  {
   "cell_type": "code",
   "execution_count": 4,
   "metadata": {},
   "outputs": [
    {
     "data": {
      "text/plain": [
       "<matplotlib.image.AxesImage at 0x7fdde5663438>"
      ]
     },
     "execution_count": 4,
     "metadata": {},
     "output_type": "execute_result"
    },
    {
     "data": {
      "image/png": "[encoded data removed]",
      "text/plain": [
       "<matplotlib.figure.Figure at 0x7fdde7991f60>"
      ]
     },
     "metadata": {},
     "output_type": "display_data"
    }
   ],
   "source": [
    "%matplotlib inline\n",
    "import matplotlib.pyplot as plt\n",
    "plt.imshow(train_x[0][0])"
   ]
  },
  {
   "cell_type": "markdown",
   "metadata": {},
   "source": [
    "## Create the CNN model\n",
    "\n",
    "TODO: plot the net structure"
   ]
  },
  {
   "cell_type": "code",
   "execution_count": 5,
   "metadata": {},
   "outputs": [
    {
     "name": "stdout",
     "output_type": "stream",
     "text": [
      "('conv1', (32, 14, 14))\n",
      "('relu1', (32, 14, 14))\n",
      "('conv2', (32, 7, 7))\n",
      "('relu2', (32, 7, 7))\n",
      "('pool', (32, 4, 4))\n",
      "('flat', (512,))\n",
      "('dense', (10,))\n"
     ]
    },
    {
     "data": {
      "text/plain": [
       "<singa.layer.Dense at 0x7fddc5ca3b00>"
      ]
     },
     "execution_count": 5,
     "metadata": {},
     "output_type": "execute_result"
    }
   ],
   "source": [
    "from singa import net as ffnet\n",
    "from singa.layer import Conv2D, MaxPooling2D, Dropout, Activation, Flatten, Dense\n",
    "from singa import optimizer, loss, metric\n",
    "from singa import layer\n",
    "layer.engine = 'singacpp'\n",
    "net = ffnet.FeedForwardNet(loss.SoftmaxCrossEntropy(), metric.Accuracy())\n",
    "net.add(Conv2D('conv1', 32, 3, 2, input_sample_shape=(1,28,28)))\n",
    "net.add(Activation('relu1'))\n",
    "net.add(Conv2D('conv2', 32, 3, 2))\n",
    "net.add(Activation('relu2'))\n",
    "net.add(MaxPooling2D('pool', 3, 2))\n",
    "net.add(Flatten('flat'))\n",
    "net.add(Dense('dense', 10))"
   ]
  },
  {
   "cell_type": "markdown",
   "metadata": {},
   "source": [
    "## Initialize the parameters\n",
    "\n",
    "* weight matrix - guassian distribution\n",
    "* bias - 0"
   ]
  },
  {
   "cell_type": "code",
   "execution_count": 6,
   "metadata": {},
   "outputs": [
    {
     "name": "stdout",
     "output_type": "stream",
     "text": [
      "conv1/weight (32, 9) 0.07648436725139618\n",
      "conv1/bias (32,) 0.0\n",
      "conv2/weight (32, 288) 0.08030246943235397\n",
      "conv2/bias (32,) 0.0\n",
      "dense/weight (512, 10) 0.07954108715057373\n",
      "dense/bias (10,) 0.0\n"
     ]
    }
   ],
   "source": [
    "for pname, pval in zip(net.param_names(), net.param_values()):\n",
    "    if len(pval.shape) > 1:\n",
    "        pval.gaussian(0, 0.1)\n",
    "    else:\n",
    "        pval.set_value(0)\n",
    "    print(pname, pval.shape, pval.l1())"
   ]
  },
  {
   "cell_type": "markdown",
   "metadata": {},
   "source": [
    "## Set up the optimizer and tensors"
   ]
  },
  {
   "cell_type": "code",
   "execution_count": 7,
   "metadata": {
    "collapsed": true
   },
   "outputs": [],
   "source": [
    "from singa import tensor\n",
    "#from singa.proto import core_pb2\n",
    "from singa import device\n",
    "from singa import utils\n",
    "cpu = device.get_default_device()\n",
    "\n",
    "opt = optimizer.SGD(momentum=0.9, weight_decay=1e-4)\n",
    "batch_size = 32\n",
    "num_train_batch = old_div(train_x.shape[0], batch_size)\n",
    "\n",
    "tx = tensor.Tensor((batch_size, 1, 28, 28))\n",
    "ty = tensor.Tensor((batch_size,), cpu , tensor.int32)\n",
    "\n",
    "# for progress bar\n",
    "from tqdm import tnrange\n",
    "idx = np.arange(train_x.shape[0], dtype=np.int32)"
   ]
  },
  {
   "cell_type": "markdown",
   "metadata": {},
   "source": [
    "## Conduct SGD\n",
    "\n",
    "1. process the training data multile time, each time is called on epoch; \n",
    "2. for each epoch, read the data as mini-batches in random order\n",
    "3. for each mini-batch, do BP and update the parameters  "
   ]
  },
  {
   "cell_type": "code",
   "execution_count": 8,
   "metadata": {},
   "outputs": [
    {
     "data": {
      "application/vnd.jupyter.widget-view+json": {
       "model_id": "b9a8c3eff6744b90a2be87729cb60cd5"
      }
     },
     "metadata": {},
     "output_type": "display_data"
    },
    {
     "name": "stdout",
     "output_type": "stream",
     "text": [
      "\n",
      "Epoch = 0, training loss = 0.291366, training accuracy = 0.907370\n"
     ]
    },
    {
     "data": {
      "application/vnd.jupyter.widget-view+json": {
       "model_id": "4cca5a2fff6b47859adafae922ea20d9"
      }
     },
     "metadata": {},
     "output_type": "display_data"
    },
    {
     "name": "stdout",
     "output_type": "stream",
     "text": [
      "\n",
      "Epoch = 1, training loss = 0.111163, training accuracy = 0.965089\n"
     ]
    }
   ],
   "source": [
    "for epoch in range(2):\n",
    "    np.random.shuffle(idx)\n",
    "    loss, acc = 0.0, 0.0\n",
    "    \n",
    "    bar = tnrange(num_train_batch, desc='Epoch %d' % epoch)\n",
    "    for b in bar:\n",
    "        x = train_x[idx[b * batch_size: (b + 1) * batch_size]]\n",
    "        y = train_y[idx[b * batch_size: (b + 1) * batch_size]]\n",
    "        tx.copy_from_numpy(x)\n",
    "        ty.copy_from_numpy(y)\n",
    "        grads, (l, a) = net.train(tx, ty)\n",
    "        loss += l\n",
    "        acc += a\n",
    "        for (s, p, g) in zip(net.param_names(), net.param_values(), grads):\n",
    "            opt.apply_with_lr(epoch, 0.01, g, p, str(s), b)\n",
    "        # update progress bar\n",
    "        bar.set_postfix(train_loss=l, train_accuracy=a)\n",
    "    print('Epoch = %d, training loss = %f, training accuracy = %f' % (epoch, old_div(loss, num_train_batch), old_div(acc, num_train_batch)))"
   ]
  },
  {
   "cell_type": "markdown",
   "metadata": {},
   "source": [
    "## Save model to disk"
   ]
  },
  {
   "cell_type": "code",
   "execution_count": 9,
   "metadata": {
    "collapsed": true
   },
   "outputs": [],
   "source": [
    "net.save('checkpoint')"
   ]
  },
  {
   "cell_type": "markdown",
   "metadata": {},
   "source": [
    "## Load model from disk"
   ]
  },
  {
   "cell_type": "code",
   "execution_count": 10,
   "metadata": {
    "scrolled": true
   },
   "outputs": [
    {
     "name": "stdout",
     "output_type": "stream",
     "text": [
      "NOTE: If your model was saved using pickle, then set use_pickle=True for loading it\n"
     ]
    }
   ],
   "source": [
    "for pval in net.param_values():\n",
    "    pval.set_value(0)\n",
    "net.load('checkpoint')"
   ]
  },
  {
   "cell_type": "markdown",
   "metadata": {},
   "source": [
    "## Do prediction"
   ]
  },
  {
   "cell_type": "code",
   "execution_count": 11,
   "metadata": {
    "collapsed": true
   },
   "outputs": [],
   "source": [
    "from PIL import Image\n",
    "img = Image.open('static/digit.jpg').convert('L')\n",
    "img = img.resize((28,28))\n",
    "img = old_div(np.array(img, dtype=np.float32),255)\n",
    "img = tensor.from_numpy(img)\n",
    "img.reshape((1,1,28,28))\n",
    "y=net.predict(img)"
   ]
  },
  {
   "cell_type": "code",
   "execution_count": 12,
   "metadata": {},
   "outputs": [
    {
     "data": {
      "text/plain": [
       "[<matplotlib.lines.Line2D at 0x7fddc4b29240>]"
      ]
     },
     "execution_count": 12,
     "metadata": {},
     "output_type": "execute_result"
    },
    {
     "data": {
      "image/png": "[encoded data removed]",
      "text/plain": [
       "<matplotlib.figure.Figure at 0x7fdde5663da0>"
      ]
     },
     "metadata": {},
     "output_type": "display_data"
    }
   ],
   "source": [
    "prob=tensor.to_numpy(y)[0]\n",
    "plt.plot(list(range(10)), prob)"
   ]
  },
  {
   "cell_type": "markdown",
   "metadata": {},
   "source": [
    "## Debug\n",
    "\n",
    "Print l1 norm or parameter and layer feature\n",
    "\n",
    "1. parameter initialization\n",
    "2. learning rate\n",
    "3. weight decay\n"
   ]
  },
  {
   "cell_type": "code",
   "execution_count": 13,
   "metadata": {},
   "outputs": [
    {
     "name": "stdout",
     "output_type": "stream",
     "text": [
      "conv1/weight (32, 9) 7.971656799316406\n",
      "conv1/bias (32,) 0.0\n",
      "conv2/weight (32, 288) 8.005664825439453\n",
      "conv2/bias (32,) 0.0\n",
      "dense/weight (512, 10) 7.921195983886719\n",
      "dense/bias (10,) 0.0\n",
      "\n",
      "\n",
      "Epoch 0\n",
      "-->conv1: 4.059905\n",
      "conv1-->relu1: 2.407956\n",
      "relu1-->conv2: 620.319519\n",
      "conv2-->relu2: 302.810760\n",
      "relu2-->pool: 965.994873\n",
      "pool-->flat: 965.994873\n",
      "flat-->dense: 276680.062500\n",
      "-->dense: 0.270273\n",
      "dense-->flat: 0.270273\n",
      "flat-->pool: 0.074453\n",
      "pool-->relu2: 0.046011\n",
      "relu2-->conv2: 8.166893\n",
      "conv2-->relu1: 2.553801\n",
      "relu1-->conv1: 299.891296\n",
      "\n",
      " loss = 68.231674, params\n",
      "conv1/weight 9.855006217956543\n",
      "conv1/bias 9.832422256469727\n",
      "conv2/weight 8.0507173538208\n",
      "conv2/bias 0.1285100281238556\n",
      "dense/weight 8.218809127807617\n",
      "dense/bias 0.0013595324708148837\n",
      "\n",
      "\n",
      "Epoch 1\n",
      "-->conv1: 17.634811\n",
      "conv1-->relu1: 3.629616\n",
      "relu1-->conv2: 1683.136475\n",
      "conv2-->relu2: 389.035248\n",
      "relu2-->pool: 934.496582\n",
      "pool-->flat: 934.496582\n",
      "flat-->dense: 1198527.500000\n",
      "-->dense: 0.322575\n",
      "dense-->flat: 0.322575\n",
      "flat-->pool: 0.094647\n",
      "pool-->relu2: 0.039437\n",
      "relu2-->conv2: 8.781067\n",
      "conv2-->relu1: 2.430810\n",
      "relu1-->conv1: 502.457764\n",
      "\n",
      " loss = 79.148743, params\n",
      "conv1/weight 14.95351791381836\n",
      "conv1/bias 28.66775131225586\n",
      "conv2/weight 8.543733596801758\n",
      "conv2/bias 0.320060670375824\n",
      "dense/weight 9.1849365234375\n",
      "dense/bias 0.0028705699369311333\n",
      "\n",
      "\n",
      "Epoch 2\n",
      "-->conv1: 44.400776\n",
      "conv1-->relu1: 8.777474\n",
      "relu1-->conv2: 12810.666016\n",
      "conv2-->relu2: 1705.242798\n",
      "relu2-->pool: 2268.597656\n",
      "pool-->flat: 2268.597656\n",
      "flat-->dense: 4815859.500000\n",
      "-->dense: 0.347976\n",
      "dense-->flat: 0.347976\n",
      "flat-->pool: 0.109863\n",
      "pool-->relu2: 0.024067\n",
      "relu2-->conv2: 7.023767\n",
      "conv2-->relu1: 1.075155\n",
      "relu1-->conv1: 418.399963\n",
      "\n",
      " loss = 76.419479, params\n",
      "conv1/weight 29.47024154663086\n",
      "conv1/bias 52.10609436035156\n",
      "conv2/weight 10.518251419067383\n",
      "conv2/bias 0.5825839042663574\n",
      "dense/weight 12.961698532104492\n",
      "dense/bias 0.004623417742550373\n",
      "\n",
      "\n",
      "Epoch 3\n",
      "-->conv1: 82.561668\n",
      "conv1-->relu1: 2.029232\n",
      "relu1-->conv2: 19918.304688\n",
      "conv2-->relu2: 2221.255859\n",
      "relu2-->pool: 3186.028076\n",
      "pool-->flat: 3186.028076\n",
      "flat-->dense: 8799418.000000\n",
      "-->dense: 0.585852\n",
      "dense-->flat: 0.585852\n",
      "flat-->pool: 0.186150\n",
      "pool-->relu2: 0.025595\n",
      "relu2-->conv2: 10.546330\n",
      "conv2-->relu1: 1.008846\n",
      "relu1-->conv1: 2478.874512\n",
      "\n",
      " loss = 87.336548, params\n",
      "conv1/weight 45.3760871887207\n",
      "conv1/bias 122.97279357910156\n",
      "conv2/weight 12.587639808654785\n",
      "conv2/bias 0.9543725252151489\n",
      "dense/weight 21.757226943969727\n",
      "dense/bias 0.007790021598339081\n",
      "\n",
      "\n",
      "Epoch 4\n",
      "-->conv1: 181.790573\n",
      "conv1-->relu1: 0.000030\n",
      "relu1-->conv2: 1.017071\n",
      "conv2-->relu2: 0.120676\n",
      "relu2-->pool: 0.305297\n",
      "pool-->flat: 0.305297\n",
      "flat-->dense: 2401.528809\n",
      "-->dense: 0.703576\n",
      "dense-->flat: 0.703576\n",
      "flat-->pool: 0.229087\n",
      "pool-->relu2: 0.029813\n",
      "relu2-->conv2: 13.549859\n",
      "conv2-->relu1: 0.006924\n",
      "relu1-->conv1: 4.986567\n",
      "\n",
      " loss = 68.686081, params\n",
      "conv1/weight 59.74170684814453\n",
      "conv1/bias 191.91458129882812\n",
      "conv2/weight 14.60444450378418\n",
      "conv2/bias 1.4008562564849854\n",
      "dense/weight 30.463171005249023\n",
      "dense/bias 0.010233680717647076\n",
      "\n",
      "\n",
      "Epoch 5\n",
      "-->conv1: 260.486359\n",
      "conv1-->relu1: 0.000000\n",
      "relu1-->conv2: 1.400860\n",
      "conv2-->relu2: 0.062520\n",
      "relu2-->pool: 0.062520\n",
      "pool-->flat: 0.062520\n",
      "flat-->dense: 296.831329\n",
      "-->dense: 2.126958\n",
      "dense-->flat: 2.126958\n",
      "flat-->pool: 0.694517\n",
      "pool-->relu2: 0.014730\n",
      "relu2-->conv2: 6.709585\n",
      "conv2-->relu1: 0.000000\n",
      "relu1-->conv1: 0.000000\n",
      "\n",
      " loss = 65.246483, params\n",
      "conv1/weight 72.80561828613281\n",
      "conv1/bias 253.96200561523438\n",
      "conv2/weight 16.481393814086914\n",
      "conv2/bias 1.8957630395889282\n",
      "dense/weight 38.40126419067383\n",
      "dense/bias 0.014084763824939728\n",
      "\n",
      "\n",
      "Epoch 6\n",
      "-->conv1: 347.085114\n",
      "conv1-->relu1: 0.000000\n",
      "relu1-->conv2: 1.895745\n",
      "conv2-->relu2: 0.013967\n",
      "relu2-->pool: 0.013967\n",
      "pool-->flat: 0.013967\n",
      "flat-->dense: 33.670372\n",
      "-->dense: 1.395184\n",
      "dense-->flat: 1.395184\n",
      "flat-->pool: 0.455570\n",
      "pool-->relu2: 0.009508\n",
      "relu2-->conv2: 3.835509\n",
      "conv2-->relu1: 0.000000\n",
      "relu1-->conv1: 0.000000\n",
      "\n",
      " loss = 38.581238, params\n",
      "conv1/weight 84.56834411621094\n",
      "conv1/bias 309.804443359375\n",
      "conv2/weight 18.20405387878418\n",
      "conv2/bias 2.4867684841156006\n",
      "dense/weight 45.590518951416016\n",
      "dense/bias 0.016868162900209427\n",
      "\n",
      "\n",
      "Epoch 7\n",
      "-->conv1: 416.296112\n",
      "conv1-->relu1: 0.000000\n",
      "relu1-->conv2: 2.486759\n",
      "conv2-->relu2: 0.000000\n",
      "relu2-->pool: 0.000000\n",
      "pool-->flat: 0.000000\n",
      "flat-->dense: 0.016868\n",
      "-->dense: 1.538023\n",
      "dense-->flat: 1.538023\n",
      "flat-->pool: 0.502211\n",
      "pool-->relu2: 0.000000\n",
      "relu2-->conv2: 0.000000\n",
      "conv2-->relu1: 0.000000\n",
      "relu1-->conv1: 0.000000\n",
      "\n",
      " loss = 2.308411, params\n",
      "conv1/weight 95.16199493408203\n",
      "conv1/bias 360.06231689453125\n",
      "conv2/weight 19.77170753479004\n",
      "conv2/bias 3.043811798095703\n",
      "dense/weight 52.087501525878906\n",
      "dense/bias 0.01910635642707348\n",
      "\n",
      "\n",
      "Epoch 8\n",
      "-->conv1: 469.519379\n",
      "conv1-->relu1: 0.000000\n",
      "relu1-->conv2: 3.043824\n",
      "conv2-->relu2: 0.000000\n",
      "relu2-->pool: 0.000000\n",
      "pool-->flat: 0.000000\n",
      "flat-->dense: 0.019106\n",
      "-->dense: 1.641877\n",
      "dense-->flat: 1.641877\n",
      "flat-->pool: 0.536123\n",
      "pool-->relu2: 0.000000\n",
      "relu2-->conv2: 0.000000\n",
      "conv2-->relu1: 0.000000\n",
      "relu1-->conv1: 0.000000\n",
      "\n",
      " loss = 2.301430, params\n",
      "conv1/weight 104.70797729492188\n",
      "conv1/bias 405.2940368652344\n",
      "conv2/weight 21.199617385864258\n",
      "conv2/bias 3.545147657394409\n",
      "dense/weight 57.95866775512695\n",
      "dense/bias 0.02116413414478302\n",
      "\n",
      "\n",
      "Epoch 9\n",
      "-->conv1: 525.609802\n",
      "conv1-->relu1: 0.000000\n",
      "relu1-->conv2: 3.545132\n",
      "conv2-->relu2: 0.000000\n",
      "relu2-->pool: 0.000000\n",
      "pool-->flat: 0.000000\n",
      "flat-->dense: 0.021164\n",
      "-->dense: 2.182356\n",
      "dense-->flat: 2.182356\n",
      "flat-->pool: 0.712606\n",
      "pool-->relu2: 0.000000\n",
      "relu2-->conv2: 0.000000\n",
      "conv2-->relu1: 0.000000\n",
      "relu1-->conv1: 0.000000\n",
      "\n",
      " loss = 2.316046, params\n",
      "conv1/weight 113.30311584472656\n",
      "conv1/bias 446.00213623046875\n",
      "conv2/weight 22.49642562866211\n",
      "conv2/bias 3.9963467121124268\n",
      "dense/weight 63.25651931762695\n",
      "dense/bias 0.02255747839808464\n"
     ]
    }
   ],
   "source": [
    "np.random.shuffle(idx)\n",
    "ffnet.verbose=True\n",
    "for pname, pval in zip(net.param_names(), net.param_values()):\n",
    "    if len(pval.shape) > 1:\n",
    "        pval.gaussian(0, 10)\n",
    "    else:\n",
    "        pval.set_value(0)\n",
    "    print(pname, pval.shape, pval.l1())\n",
    "for b in range(10):\n",
    "    print(\"\\n\\nEpoch %d\" % b)\n",
    "    x = train_x[idx[b * batch_size: (b + 1) * batch_size]]\n",
    "    y = train_y[idx[b * batch_size: (b + 1) * batch_size]]\n",
    "    tx.copy_from_numpy(x)\n",
    "    ty.copy_from_numpy(y)\n",
    "    grads, (l, a) = net.train(tx, ty)\n",
    "    print('\\n loss = %f, params' % l)\n",
    "    for (s, p, g) in zip(net.param_names(), net.param_values(), grads):\n",
    "        opt.apply_with_lr(epoch, 0.01, g, p, str(s), b)\n",
    "        print(s, p.l1())"
   ]
  },
  {
   "cell_type": "code",
   "execution_count": 14,
   "metadata": {
    "collapsed": true
   },
   "outputs": [],
   "source": [
    "def vis_square(data):\n",
    "    \"\"\"Take an array of shape (n, height, width) or (n, height, width, 3)\n",
    "       and visualize each (height, width) thing in a grid of size approx. sqrt(n) by sqrt(n)\"\"\"\n",
    "    \n",
    "    # normalize data for display\n",
    "    data = old_div((data - data.min()), (data.max() - data.min()))\n",
    "    \n",
    "    # force the number of filters to be square\n",
    "    n = int(np.ceil(np.sqrt(data.shape[0])))\n",
    "    padding = (((0, n ** 2 - data.shape[0]),\n",
    "               (0, 1), (0, 1))                 # add some space between filters\n",
    "               + ((0, 0),) * (data.ndim - 3))  # don't pad the last dimension (if there is one)\n",
    "    data = np.pad(data, padding, mode='constant', constant_values=1)  # pad with ones (white)\n",
    "    \n",
    "    # tile the filters into an image\n",
    "    data = data.reshape((n, n) + data.shape[1:]).transpose((0, 2, 1, 3) + tuple(range(4, data.ndim + 1)))\n",
    "    data = data.reshape((n * data.shape[1], n * data.shape[3]) + data.shape[4:])\n",
    "    \n",
    "    plt.imshow(data); plt.axis('off')"
   ]
  },
  {
   "cell_type": "code",
   "execution_count": 15,
   "metadata": {},
   "outputs": [
    {
     "name": "stdout",
     "output_type": "stream",
     "text": [
      "NOTE: If your model was saved using pickle, then set use_pickle=True for loading it\n"
     ]
    }
   ],
   "source": [
    "np.random.shuffle(idx)\n",
    "ffnet.verbose=False\n",
    "net.load('checkpoint')\n",
    "b=1\n",
    "x = train_x[idx[b * batch_size: (b + 1) * batch_size]]    \n",
    "tx.copy_from_numpy(x)\n",
    "\n",
    "r = net.forward(False, tx, ['relu1', 'relu2'])    "
   ]
  },
  {
   "cell_type": "code",
   "execution_count": 16,
   "metadata": {},
   "outputs": [
    {
     "data": {
      "image/png": "[encoded data removed]",
      "text/plain": [
       "<matplotlib.figure.Figure at 0x7fddc4be1e48>"
      ]
     },
     "metadata": {},
     "output_type": "display_data"
    }
   ],
   "source": [
    "r1 = tensor.to_numpy(r['relu1'])[0]\n",
    "vis_square(r1)"
   ]
  },
  {
   "cell_type": "code",
   "execution_count": 17,
   "metadata": {},
   "outputs": [
    {
     "data": {
      "image/png": "[encoded data removed]",
      "text/plain": [
       "<matplotlib.figure.Figure at 0x7fdde5696208>"
      ]
     },
     "metadata": {},
     "output_type": "display_data"
    }
   ],
   "source": [
    "r2 = tensor.to_numpy(r['relu2'])[0]\n",
    "vis_square(r2)"
   ]
  },
  {
   "cell_type": "code",
   "execution_count": 18,
   "metadata": {},
   "outputs": [
    {
     "name": "stdout",
     "output_type": "stream",
     "text": [
      "(32, 288)\n"
     ]
    }
   ],
   "source": [
    "p=net.param_values()[2]\n",
    "print(p.shape)"
   ]
  },
  {
   "cell_type": "code",
   "execution_count": 19,
   "metadata": {},
   "outputs": [
    {
     "data": {
      "image/png": "[encoded data removed]",
      "text/plain": [
       "<matplotlib.figure.Figure at 0x7fddc4a323c8>"
      ]
     },
     "metadata": {},
     "output_type": "display_data"
    }
   ],
   "source": [
    "vis_square(tensor.to_numpy(p)[0].reshape(32, 3,3))"
   ]
  },
  {
   "cell_type": "code",
   "execution_count": null,
   "metadata": {
    "collapsed": true
   },
   "outputs": [],
   "source": []
  }
 ],
 "metadata": {
  "anaconda-cloud": {},
  "kernelspec": {
   "display_name": "py3",
   "language": "python",
   "name": "py3"
  },
  "language_info": {
   "codemirror_mode": {
    "name": "ipython",
    "version": 3
   },
   "file_extension": ".py",
   "mimetype": "text/x-python",
   "name": "python",
   "nbconvert_exporter": "python",
   "pygments_lexer": "ipython3",
   "version": "3.5.3"
  },
  "widgets": {
   "state": {
    "0678ea185e8c48a9ab20bdb956e6b18a": {
     "views": [
      {
       "cell_index": 13
      }
     ]
    },
    "1373fb7b9e754b639a3f27ebf0372d70": {
     "views": [
      {
       "cell_index": 13
      }
     ]
    },
    "49561f2ab00b457f82357766d967ca8b": {
     "views": [
      {
       "cell_index": 13
      }
     ]
    }
   },
   "version": "1.2.0"
  }
 },
 "nbformat": 4,
 "nbformat_minor": 2
}
